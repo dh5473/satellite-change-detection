{
 "cells": [
  {
   "cell_type": "code",
   "execution_count": 2,
   "metadata": {},
   "outputs": [],
   "source": [
    "import os\n",
    "import json\n",
    "import numpy as np\n",
    "import PIL\n",
    "from PIL import Image\n",
    "from PIL import ImageDraw"
   ]
  },
  {
   "cell_type": "code",
   "execution_count": 5,
   "metadata": {},
   "outputs": [],
   "source": [
    "train_img_path = 'data/AERIAL-CD/data/1.Training/원천데이터'\n",
    "val_img_path = 'data/AERIAL-CD/data/2.Validation/원천데이터'\n",
    "\n",
    "train_json_path = 'data/AERIAL-CD/data/1.Training/라벨링데이터'\n",
    "val_json_path = 'data/AERIAL-CD/data/2.Validation/라벨링데이터'\n",
    "\n",
    "train_label_path = 'data/AERIAL-CD/train/label'\n",
    "val_label_path = 'data/AERIAL-CD/val/label'\n",
    "\n",
    "train_before_img_path = 'data/AERIAL-CD/train/A'\n",
    "val_before_img_path = 'data/AERIAL-CD/val/A'\n",
    "\n",
    "train_after_img_path = 'data/AERIAL-CD/train/B'\n",
    "val_after_img_path = 'data/AERIAL-CD/val/B'\n",
    "\n",
    "os.makedirs(train_label_path, exist_ok=True)\n",
    "os.makedirs(val_label_path, exist_ok=True)\n",
    "os.makedirs(train_before_img_path, exist_ok=True)\n",
    "os.makedirs(val_before_img_path, exist_ok=True)\n",
    "os.makedirs(train_after_img_path, exist_ok=True)\n",
    "os.makedirs(val_after_img_path, exist_ok=True)"
   ]
  },
  {
   "cell_type": "code",
   "execution_count": 7,
   "metadata": {},
   "outputs": [],
   "source": [
    "def create_binary_image_with_polygon(poly_points, img_width, img_height):\n",
    "    image_size = (img_width, img_height)\n",
    "    image_array = np.zeros(image_size, dtype=np.uint8)\n",
    "\n",
    "    scaled_polygons = []\n",
    "    for poly in poly_points:\n",
    "        for i, (x, y) in enumerate(poly):\n",
    "            if x <= img_height:\n",
    "                scaled_polygons.append([(int(poly_point[0]) + img_height, int(poly_point[1])) for poly_point in poly])\n",
    "            else :\n",
    "                scaled_polygons.append([(int(poly_point[0]), int(poly_point[1])) for poly_point in poly])\n",
    "\n",
    "    image = Image.new(\"L\", image_size, color=0)\n",
    "    draw = ImageDraw.Draw(image)\n",
    "\n",
    "    for scaled_polygon in scaled_polygons:\n",
    "        draw.polygon(scaled_polygon, outline=1, fill=1)\n",
    "\n",
    "    binary_image = np.array(image)\n",
    "    before_label = binary_image[:, :img_height]\n",
    "    after_label = binary_image[:, img_height:]\n",
    "\n",
    "    return after_label"
   ]
  },
  {
   "cell_type": "code",
   "execution_count": 5,
   "metadata": {},
   "outputs": [
    {
     "name": "stdout",
     "output_type": "stream",
     "text": [
      "40623\n",
      "40623\n"
     ]
    }
   ],
   "source": [
    "# train \n",
    "train_img_list = os.listdir(train_img_path)\n",
    "train_json_list = os.listdir(train_json_path)\n",
    "\n",
    "print(len(train_img_list))\n",
    "print(len(train_json_list))\n",
    "\n",
    "for i, train_json in enumerate(train_json_list):\n",
    "\n",
    "    train_json_ = os.path.join(train_json_path, train_json)\n",
    "    with open(train_json_, 'r') as f:\n",
    "\n",
    "        json_data = json.load(f)\n",
    "\n",
    "        img_id = json_data['info']['info.id']\n",
    "        img_width = json_data['images']['images.width']\n",
    "        img_height = json_data['images']['images.height']\n",
    "\n",
    "        polygons = json_data['annotations']\n",
    "        poly_points = []\n",
    "        for poly in polygons:\n",
    "            poly_points.append(poly['polygon.points'])\n",
    "        label = create_binary_image_with_polygon(poly_points, img_width, img_height)\n",
    "\n",
    "    tiff_file_path = os.path.join(train_img_path, train_img_list[i])\n",
    "    img_tiff = Image.open(tiff_file_path)\n",
    "    numpy_array = np.array(img_tiff)\n",
    "\n",
    "    before =  numpy_array[:, :img_height, :]\n",
    "    after = numpy_array[:, img_height:, :]\n",
    "\n",
    "    before_img = Image.fromarray(before)\n",
    "    after_img = Image.fromarray(after)\n",
    "    label_img = Image.fromarray(label * 255)\n",
    "\n",
    "    before_img.save(os.path.join(train_before_img_path, 'train_{}.png'.format(i)))\n",
    "    after_img.save(os.path.join(train_after_img_path, 'train_{}.png'.format(i)))\n",
    "    label_img.save(os.path.join(train_label_path, 'train_{}.png'.format(i)))"
   ]
  },
  {
   "cell_type": "code",
   "execution_count": 8,
   "metadata": {},
   "outputs": [
    {
     "name": "stdout",
     "output_type": "stream",
     "text": [
      "5078\n",
      "5078\n"
     ]
    }
   ],
   "source": [
    "# Val \n",
    "val_img_list = os.listdir(val_img_path)\n",
    "val_json_list = os.listdir(val_json_path)\n",
    "\n",
    "print(len(val_img_list))\n",
    "print(len(val_json_list))\n",
    "\n",
    "for i, val_json in enumerate(val_json_list):\n",
    "\n",
    "    val_json_ = os.path.join(val_json_path, val_json)\n",
    "    with open(val_json_, 'r') as f:\n",
    "\n",
    "        json_data = json.load(f)\n",
    "\n",
    "        img_id = json_data['info']['info.id']\n",
    "        img_width = json_data['images']['images.width']\n",
    "        img_height = json_data['images']['images.height']\n",
    "\n",
    "        polygons = json_data['annotations']\n",
    "        poly_points = []\n",
    "        for poly in polygons:\n",
    "            poly_points.append(poly['polygon.points'])\n",
    "        label = create_binary_image_with_polygon(poly_points, img_width, img_height)\n",
    "\n",
    "    tiff_file_path = os.path.join(val_img_path, val_img_list[i])\n",
    "    img_tiff = Image.open(tiff_file_path)\n",
    "    numpy_array = np.array(img_tiff)\n",
    "\n",
    "    before =  numpy_array[:, :img_height, :]\n",
    "    after = numpy_array[:, img_height:, :]\n",
    "\n",
    "    before_img = Image.fromarray(before)\n",
    "    after_img = Image.fromarray(after)\n",
    "    label_img = Image.fromarray(label * 255)\n",
    "\n",
    "    before_img.save(os.path.join(val_before_img_path, 'val_{}.png'.format(i)))\n",
    "    after_img.save(os.path.join(val_after_img_path, 'val_{}.png'.format(i)))\n",
    "    label_img.save(os.path.join(val_label_path, 'val_{}.png'.format(i)))"
   ]
  },
  {
   "cell_type": "code",
   "execution_count": null,
   "metadata": {},
   "outputs": [],
   "source": []
  }
 ],
 "metadata": {
  "kernelspec": {
   "display_name": "TinyCD",
   "language": "python",
   "name": "python3"
  },
  "language_info": {
   "codemirror_mode": {
    "name": "ipython",
    "version": 3
   },
   "file_extension": ".py",
   "mimetype": "text/x-python",
   "name": "python",
   "nbconvert_exporter": "python",
   "pygments_lexer": "ipython3",
   "version": "3.9.18"
  }
 },
 "nbformat": 4,
 "nbformat_minor": 2
}
